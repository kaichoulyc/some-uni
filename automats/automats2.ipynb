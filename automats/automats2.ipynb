{
 "cells": [
  {
   "cell_type": "code",
   "execution_count": 96,
   "metadata": {},
   "outputs": [
    {
     "name": "stdout",
     "output_type": "stream",
     "text": [
      "Введите 'end' для окончания ввода правил\n",
      "S\n",
      "aB\n",
      "S\n",
      "aA\n",
      "B\n",
      "bB\n",
      "B\n",
      "a\n",
      "A\n",
      "aA\n",
      "A\n",
      "b\n",
      "end\n"
     ]
    }
   ],
   "source": [
    "print(\"Введите \\'end\\' для окончания ввода правил\")\n",
    "s = []\n",
    "a = \"kor\"\n",
    "while True:\n",
    "    a = input()\n",
    "    if a == \"end\":\n",
    "        break\n",
    "    b = input()\n",
    "    s.append([a,b])"
   ]
  },
  {
   "cell_type": "code",
   "execution_count": 97,
   "metadata": {},
   "outputs": [
    {
     "data": {
      "text/plain": [
       "[['S', 'aB'], ['S', 'aA'], ['B', 'bB'], ['B', 'a'], ['A', 'aA'], ['A', 'b']]"
      ]
     },
     "execution_count": 97,
     "metadata": {},
     "output_type": "execute_result"
    }
   ],
   "source": [
    "s"
   ]
  },
  {
   "cell_type": "code",
   "execution_count": 98,
   "metadata": {},
   "outputs": [],
   "source": [
    "top = []\n",
    "left = []"
   ]
  },
  {
   "cell_type": "code",
   "execution_count": 99,
   "metadata": {},
   "outputs": [],
   "source": [
    "for i in range(len(s)):\n",
    "    if len(s[i][1]) == 2:\n",
    "        if s[i][1][0] not in top:\n",
    "            top.append(s[i][1][0])\n",
    "        if s[i][1][1] not in left:\n",
    "            left.append(s[i][1][1])\n",
    "    elif len(s[i][1]) == 1:\n",
    "        if s[i][1] not in top:\n",
    "            top.append(s[i][1])\n",
    "    if s[i][0] not in left:\n",
    "        left.append(s[i][0])\n",
    "left.append('N')"
   ]
  },
  {
   "cell_type": "code",
   "execution_count": 100,
   "metadata": {},
   "outputs": [
    {
     "name": "stdout",
     "output_type": "stream",
     "text": [
      "['a', 'b'] ['B', 'S', 'A', 'N']\n"
     ]
    }
   ],
   "source": [
    "print(top, left)"
   ]
  },
  {
   "cell_type": "code",
   "execution_count": 101,
   "metadata": {},
   "outputs": [],
   "source": [
    "dic = {}\n",
    "for i in top:\n",
    "    dic[i] = [\"Ø\"]*len(left)"
   ]
  },
  {
   "cell_type": "code",
   "execution_count": 102,
   "metadata": {},
   "outputs": [],
   "source": [
    "import pandas as pd"
   ]
  },
  {
   "cell_type": "code",
   "execution_count": 103,
   "metadata": {},
   "outputs": [],
   "source": [
    "tabl = pd.DataFrame(dic, index=list(left))"
   ]
  },
  {
   "cell_type": "code",
   "execution_count": 104,
   "metadata": {},
   "outputs": [],
   "source": [
    "def table_generator(s, tabl):\n",
    "    for i in range(len(s)):\n",
    "        if len(s[i][1]) == 1:\n",
    "            if tabl.loc[s[i][0],s[i][1]] == 'Ø':\n",
    "                tabl.loc[s[i][0],s[i][1]] = \"N\"\n",
    "            else:\n",
    "                tabl.loc[s[i][0],s[i][1]] += \",N\"\n",
    "        elif len(s[i][1]) == 2:\n",
    "            if tabl.loc[s[i][0],s[i][1][0]] == 'Ø':\n",
    "                tabl.loc[s[i][0],s[i][1][0]] = s[i][1][1]\n",
    "            else:\n",
    "                tabl.loc[s[i][0],s[i][1][0]]+=f\",{s[i][1][1]}\"\n",
    "    return tabl"
   ]
  },
  {
   "cell_type": "code",
   "execution_count": 105,
   "metadata": {},
   "outputs": [],
   "source": [
    "table = table_generator(s, tabl)"
   ]
  },
  {
   "cell_type": "code",
   "execution_count": 106,
   "metadata": {},
   "outputs": [
    {
     "data": {
      "text/html": [
       "<div>\n",
       "<style scoped>\n",
       "    .dataframe tbody tr th:only-of-type {\n",
       "        vertical-align: middle;\n",
       "    }\n",
       "\n",
       "    .dataframe tbody tr th {\n",
       "        vertical-align: top;\n",
       "    }\n",
       "\n",
       "    .dataframe thead th {\n",
       "        text-align: right;\n",
       "    }\n",
       "</style>\n",
       "<table border=\"1\" class=\"dataframe\">\n",
       "  <thead>\n",
       "    <tr style=\"text-align: right;\">\n",
       "      <th></th>\n",
       "      <th>a</th>\n",
       "      <th>b</th>\n",
       "    </tr>\n",
       "  </thead>\n",
       "  <tbody>\n",
       "    <tr>\n",
       "      <th>B</th>\n",
       "      <td>N</td>\n",
       "      <td>B</td>\n",
       "    </tr>\n",
       "    <tr>\n",
       "      <th>S</th>\n",
       "      <td>B,A</td>\n",
       "      <td>Ø</td>\n",
       "    </tr>\n",
       "    <tr>\n",
       "      <th>A</th>\n",
       "      <td>A</td>\n",
       "      <td>N</td>\n",
       "    </tr>\n",
       "    <tr>\n",
       "      <th>N</th>\n",
       "      <td>Ø</td>\n",
       "      <td>Ø</td>\n",
       "    </tr>\n",
       "  </tbody>\n",
       "</table>\n",
       "</div>"
      ],
      "text/plain": [
       "     a  b\n",
       "B    N  B\n",
       "S  B,A  Ø\n",
       "A    A  N\n",
       "N    Ø  Ø"
      ]
     },
     "execution_count": 106,
     "metadata": {},
     "output_type": "execute_result"
    }
   ],
   "source": [
    "table"
   ]
  },
  {
   "cell_type": "code",
   "execution_count": 107,
   "metadata": {},
   "outputs": [],
   "source": [
    "table.to_csv('table.csv')"
   ]
  },
  {
   "cell_type": "code",
   "execution_count": null,
   "metadata": {},
   "outputs": [],
   "source": []
  }
 ],
 "metadata": {
  "kernelspec": {
   "display_name": "Python 3",
   "language": "python",
   "name": "python3"
  },
  "language_info": {
   "codemirror_mode": {
    "name": "ipython",
    "version": 3
   },
   "file_extension": ".py",
   "mimetype": "text/x-python",
   "name": "python",
   "nbconvert_exporter": "python",
   "pygments_lexer": "ipython3",
   "version": "3.6.5"
  }
 },
 "nbformat": 4,
 "nbformat_minor": 2
}
