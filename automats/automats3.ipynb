{
 "cells": [
  {
   "cell_type": "code",
   "execution_count": 2,
   "metadata": {},
   "outputs": [],
   "source": [
    "import copy"
   ]
  },
  {
   "cell_type": "code",
   "execution_count": 1,
   "metadata": {
    "scrolled": true
   },
   "outputs": [
    {
     "name": "stdout",
     "output_type": "stream",
     "text": [
      "Введите 'end' для окончания ввода правил\n",
      "E\n",
      "T|E+T|E-T|Ø\n",
      "T\n",
      "F|F*T|F/T|Ø\n",
      "F\n",
      "G|Fn|n\n",
      "G\n",
      "Gm\n",
      "H\n",
      "Hh|h\n",
      "end\n"
     ]
    }
   ],
   "source": [
    "print(\"Введите \\'end\\' для окончания ввода правил\")\n",
    "fon = []\n",
    "a = \"kor\"\n",
    "while True:\n",
    "    a = input()\n",
    "    if a == \"end\":\n",
    "        break\n",
    "    b = input()\n",
    "    b = b.split(\"|\")\n",
    "    for i in b:\n",
    "        fon.append([a, i])"
   ]
  },
  {
   "cell_type": "code",
   "execution_count": null,
   "metadata": {},
   "outputs": [],
   "source": [
    "test_1 = [['E', 'T'],\n",
    "          ['E', 'E+T'],\n",
    "          ['E', 'E-T'],\n",
    "          ['E', 'Ø'],\n",
    "          ['T', 'F'],\n",
    "          ['T', 'F*T'],\n",
    "          ['T', 'F/T'],\n",
    "          ['T', 'Ø'],\n",
    "          ['F', 'G'],\n",
    "          ['F', 'Fn'],\n",
    "          ['F', 'n'],\n",
    "          ['G', 'Gm'],\n",
    "          ['H', 'Hh'],\n",
    "          ['H', 'h']]\n"
   ]
  },
  {
   "cell_type": "code",
   "execution_count": 3,
   "metadata": {},
   "outputs": [],
   "source": [
    "def proverka(s):\n",
    "    levon_gram = 0\n",
    "    pravo_gram = 0\n",
    "    con_svobod = 0\n",
    "    con_zav = 0\n",
    "    n = len(s)\n",
    "    check = True\n",
    "    pro = \"Не контекстно-свободная грамматика\"\n",
    "    for i in range(n):\n",
    "        if (len(s[i][0]) == 1) & str.isupper(s[i][0]) & ((len(s[i][1]) >= 0) | (len(s[i][1]) <= 2)):\n",
    "            if len(s[i][1]) == 2:\n",
    "                if str.isupper(s[i][1][0]) & str.islower(s[i][1][1]):\n",
    "                    levon_gram+=1\n",
    "            elif len(s[i][1]) == 1:\n",
    "                levon_gram+=1\n",
    "            elif len(s[i][1]) == 0:\n",
    "                levon_gram+=1\n",
    "        if (len(s[i][0]) == 1) & str.isupper(s[i][0]) & ((len(s[i][1]) >= 0) | (len(s[i][1]) <= 2)):\n",
    "            if len(s[i][1]) == 2:\n",
    "                if str.isupper(s[i][1][1]) & str.islower(s[i][1][0]):\n",
    "                    pravo_gram+=1\n",
    "            elif len(s[i][1]) == 1:\n",
    "                pravo_gram+=1\n",
    "            elif len(s[i][1]) == 0:\n",
    "                pravo_gram+=1\n",
    "        if (len(s[i][0]) == 1) & str.isupper(s[i][0]):\n",
    "            con_svobod += 1\n",
    "        if (len(s[i][1]) != 0) & (len(s[i][0]) != 'S'):\n",
    "            for j in s[i][0]:\n",
    "                if str.isupper(j):\n",
    "                    con_zav += 1\n",
    "                    break\n",
    "        elif (len(s[i][0]) == 'S') & (len(s[i][1]) == 0):\n",
    "            con_zav += 1\n",
    "    if levon_gram == n:\n",
    "        check = False\n",
    "    elif (pravo_gram == n) & check:\n",
    "        check = False\n",
    "    elif (con_svobod == n) & check:\n",
    "        pro = \"Контекстно-свободная грамматика\"\n",
    "        check = False\n",
    "    elif (con_zav == n) & check:\n",
    "        check = False\n",
    "    return pro"
   ]
  },
  {
   "cell_type": "code",
   "execution_count": 4,
   "metadata": {},
   "outputs": [
    {
     "data": {
      "text/plain": [
       "'Контекстно-свободная грамматика'"
      ]
     },
     "execution_count": 4,
     "metadata": {},
     "output_type": "execute_result"
    }
   ],
   "source": [
    "proverka(fon)"
   ]
  },
  {
   "cell_type": "code",
   "execution_count": 5,
   "metadata": {},
   "outputs": [
    {
     "data": {
      "text/plain": [
       "[['E', 'T'],\n",
       " ['E', 'E+T'],\n",
       " ['E', 'E-T'],\n",
       " ['E', 'Ø'],\n",
       " ['T', 'F'],\n",
       " ['T', 'F*T'],\n",
       " ['T', 'F/T'],\n",
       " ['T', 'Ø'],\n",
       " ['F', 'G'],\n",
       " ['F', 'Fn'],\n",
       " ['F', 'n'],\n",
       " ['G', 'Gm'],\n",
       " ['H', 'Hh'],\n",
       " ['H', 'h']]"
      ]
     },
     "execution_count": 5,
     "metadata": {},
     "output_type": "execute_result"
    }
   ],
   "source": [
    "fon"
   ]
  },
  {
   "cell_type": "code",
   "execution_count": 35,
   "metadata": {},
   "outputs": [],
   "source": [
    "def besplod(pr):\n",
    "    check = pr[0][0]\n",
    "    k = 0\n",
    "    schet = 0\n",
    "    inqui = []\n",
    "    for i in pr:\n",
    "        if i[0] != check:\n",
    "            if k == schet:\n",
    "                inqui.append(check)\n",
    "            k = 0\n",
    "            check = i[0]\n",
    "            schet = 1\n",
    "        else:\n",
    "            schet += 1\n",
    "        for j in i[1]:\n",
    "            if j == check:\n",
    "                k += 1\n",
    "                break\n",
    "    hep = copy.deepcopy(pr)\n",
    "    for i in inqui:\n",
    "        for j in pr:\n",
    "            if j[0] == i:\n",
    "                hep.remove(j)\n",
    "            else:\n",
    "                for hum in j[1]:\n",
    "                    if hum == i:\n",
    "                        hep.remove(j)\n",
    "                    \n",
    "    return hep"
   ]
  },
  {
   "cell_type": "code",
   "execution_count": 36,
   "metadata": {},
   "outputs": [],
   "source": [
    "new_s = besplod(copy.deepcopy(fon))"
   ]
  },
  {
   "cell_type": "code",
   "execution_count": 143,
   "metadata": {},
   "outputs": [],
   "source": [
    "def nedost(pr):\n",
    "    check = pr[0][0]\n",
    "    inqui = []\n",
    "    for i in pr:\n",
    "        col = 0\n",
    "        if i[0] != check:\n",
    "            km = i[0]\n",
    "            for j in pr:\n",
    "                if j[0] == km:\n",
    "                    continue\n",
    "                for lor in inqui:\n",
    "                    if lor == j[0]:\n",
    "                        continue\n",
    "                for tik in j[1]:\n",
    "                    if tik == km:\n",
    "                        col += 1\n",
    "                        break\n",
    "                if col == 1:\n",
    "                    break\n",
    "            if col != 1:\n",
    "                inqui.append(km)\n",
    "            check = km\n",
    "    hep = copy.deepcopy(pr)\n",
    "    for i in inqui:\n",
    "        for j in pr:\n",
    "            if j[0] == i:\n",
    "                hep.remove(j)\n",
    "    return hep"
   ]
  },
  {
   "cell_type": "code",
   "execution_count": 144,
   "metadata": {},
   "outputs": [],
   "source": [
    "new_s_1 = nedost(copy.deepcopy(new_s))"
   ]
  },
  {
   "cell_type": "code",
   "execution_count": 145,
   "metadata": {},
   "outputs": [
    {
     "data": {
      "text/plain": [
       "[['E', 'T'],\n",
       " ['E', 'E+T'],\n",
       " ['E', 'E-T'],\n",
       " ['E', 'Ø'],\n",
       " ['T', 'F'],\n",
       " ['T', 'F*T'],\n",
       " ['T', 'F/T'],\n",
       " ['T', 'Ø'],\n",
       " ['F', 'Fn'],\n",
       " ['F', 'n']]"
      ]
     },
     "execution_count": 145,
     "metadata": {},
     "output_type": "execute_result"
    }
   ],
   "source": [
    "new_s_1"
   ]
  },
  {
   "cell_type": "code",
   "execution_count": 125,
   "metadata": {},
   "outputs": [],
   "source": [
    "def empy(pr):\n",
    "    check = pr[0][0]\n",
    "    pom = check\n",
    "    hem = copy.deepcopy(pr)\n",
    "    inuqi = []\n",
    "    for i in range(len(pr)):\n",
    "        if (pr[i][0] != check) and (pr[i][0] != pom):\n",
    "            pom = pr[i][0]\n",
    "            for j in range(i, len(pr)):\n",
    "                if pr[j][0] == pom:\n",
    "                    for pu in pr[j][1]:\n",
    "                        if pu == \"Ø\":\n",
    "                            hem.remove(pr[j])\n",
    "                            lu = 1\n",
    "                            for hat in range(len(pr)):\n",
    "                                for ku in pr[hat][1]:\n",
    "                                    if ku == pom:\n",
    "                                        if len(pr[hat][1]) == 1:\n",
    "                                            if str.isupper(pr[hat][1]) and (pr[hat][0] != pom):\n",
    "                                                break\n",
    "                                        ml = pr[hat][1]\n",
    "                                        hem.insert(hat+lu, [pr[hat][0], ml.replace(pom, \"\")])\n",
    "                                        lu +=1\n",
    "                                        break\n",
    "                                    \n",
    "                                            \n",
    "    return hem"
   ]
  },
  {
   "cell_type": "code",
   "execution_count": 126,
   "metadata": {},
   "outputs": [],
   "source": [
    "new_s_2 = empy(new_s_1)"
   ]
  },
  {
   "cell_type": "code",
   "execution_count": 182,
   "metadata": {},
   "outputs": [
    {
     "data": {
      "text/plain": [
       "[['E', 'T'],\n",
       " ['E', 'E+T'],\n",
       " ['E', 'E+'],\n",
       " ['E', 'E-T'],\n",
       " ['E', 'E-'],\n",
       " ['E', 'Ø'],\n",
       " ['T', 'F'],\n",
       " ['T', 'F*T'],\n",
       " ['T', 'F*'],\n",
       " ['T', 'F/T'],\n",
       " ['T', 'F/'],\n",
       " ['F', 'Fn'],\n",
       " ['F', 'n']]"
      ]
     },
     "execution_count": 182,
     "metadata": {},
     "output_type": "execute_result"
    }
   ],
   "source": [
    "new_s_2"
   ]
  },
  {
   "cell_type": "code",
   "execution_count": 239,
   "metadata": {},
   "outputs": [],
   "source": [
    "def cep_rules(pr):\n",
    "    hem = copy.deepcopy(pr)\n",
    "    kek = copy.deepcopy(hem)\n",
    "    mek = []\n",
    "    mur = 0\n",
    "    schet = 0\n",
    "    for i in range(len(pr)):\n",
    "        if (len(pr[-1 * (i + 1)][1]) == 1) and str.isupper(pr[-1 * (i + 1)][1]) and (pr[-1 * (i + 1)][1] != \"Ø\"):\n",
    "            kol = i\n",
    "            if schet > 0:\n",
    "                mur -= 1 * schet + mur\n",
    "            schet += 1\n",
    "            nt = pr[-1 * (i + 1)][1]\n",
    "            hem.remove(pr[-1 * (i + 1)])\n",
    "            for j in range(len(kek) - kol,len(kek)):\n",
    "                if kek[j][0] == nt:\n",
    "                    hem.insert(-1 * kol + mur, [kek[-1 * (i + 1)][0], kek[j][1]])\n",
    "                    mek.append([kek[-1 * (i + 1)][0], kek[j][1]])\n",
    "                else:\n",
    "                    mur += 1\n",
    "            kek.extend(mek)        \n",
    "    return hem"
   ]
  },
  {
   "cell_type": "code",
   "execution_count": 240,
   "metadata": {},
   "outputs": [],
   "source": [
    "new_s_3 = cep_rules(new_s_2)"
   ]
  },
  {
   "cell_type": "code",
   "execution_count": 241,
   "metadata": {},
   "outputs": [
    {
     "data": {
      "text/plain": [
       "[['E', 'E+T'],\n",
       " ['E', 'E+'],\n",
       " ['E', 'E-T'],\n",
       " ['E', 'F'],\n",
       " ['E', 'F*T'],\n",
       " ['E', 'F*'],\n",
       " ['E', 'F/T'],\n",
       " ['E', 'F/'],\n",
       " ['E', 'E-'],\n",
       " ['E', 'Ø'],\n",
       " ['E', 'Fn'],\n",
       " ['E', 'n'],\n",
       " ['T', 'F*T'],\n",
       " ['T', 'F*'],\n",
       " ['T', 'F/T'],\n",
       " ['T', 'F/'],\n",
       " ['T', 'Fn'],\n",
       " ['T', 'n'],\n",
       " ['F', 'Fn'],\n",
       " ['F', 'n']]"
      ]
     },
     "execution_count": 241,
     "metadata": {},
     "output_type": "execute_result"
    }
   ],
   "source": [
    "new_s_3"
   ]
  },
  {
   "cell_type": "code",
   "execution_count": null,
   "metadata": {},
   "outputs": [],
   "source": []
  }
 ],
 "metadata": {
  "kernelspec": {
   "display_name": "Python 3",
   "language": "python",
   "name": "python3"
  },
  "language_info": {
   "codemirror_mode": {
    "name": "ipython",
    "version": 3
   },
   "file_extension": ".py",
   "mimetype": "text/x-python",
   "name": "python",
   "nbconvert_exporter": "python",
   "pygments_lexer": "ipython3",
   "version": "3.6.5"
  }
 },
 "nbformat": 4,
 "nbformat_minor": 2
}
