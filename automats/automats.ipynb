{
 "cells": [
  {
   "cell_type": "code",
   "execution_count": 69,
   "metadata": {},
   "outputs": [
    {
     "name": "stdout",
     "output_type": "stream",
     "text": [
      "Введите 'end' для окончания ввода правил\n",
      "S\n",
      "aSBC\n",
      "S\n",
      "abc\n",
      "bC\n",
      "bc\n",
      "CB\n",
      "BC\n",
      "cC\n",
      "cc\n",
      "BB\n",
      "bb\n",
      "end\n"
     ]
    }
   ],
   "source": [
    "print(\"Введите \\'end\\' для окончания ввода правил\")\n",
    "s = []\n",
    "a = \"kor\"\n",
    "while True:\n",
    "    a = input()\n",
    "    if a == \"end\":\n",
    "        break\n",
    "    b = input()\n",
    "    s.append([a,b])"
   ]
  },
  {
   "cell_type": "code",
   "execution_count": 70,
   "metadata": {},
   "outputs": [
    {
     "data": {
      "text/plain": [
       "[['S', 'aSBC'],\n",
       " ['S', 'abc'],\n",
       " ['bC', 'bc'],\n",
       " ['CB', 'BC'],\n",
       " ['cC', 'cc'],\n",
       " ['BB', 'bb']]"
      ]
     },
     "execution_count": 70,
     "metadata": {},
     "output_type": "execute_result"
    }
   ],
   "source": [
    "s"
   ]
  },
  {
   "cell_type": "code",
   "execution_count": 71,
   "metadata": {},
   "outputs": [
    {
     "name": "stdout",
     "output_type": "stream",
     "text": [
      "Контекстно-зависимая грамматика\n"
     ]
    }
   ],
   "source": [
    "levon_gram = 0\n",
    "pravo_gram = 0\n",
    "con_svobod = 0\n",
    "con_zav = 0\n",
    "n = len(s)\n",
    "check = True\n",
    "for i in range(n):\n",
    "    if (len(s[i][0]) == 1) & str.isupper(s[i][0]) & ((len(s[i][1]) >= 0) | (len(s[i][1]) <= 2)):\n",
    "        if len(s[i][1]) == 2:\n",
    "            if str.isupper(s[i][1][0]) & str.islower(s[i][1][1]):\n",
    "                levon_gram+=1\n",
    "        elif len(s[i][1]) == 1:\n",
    "            levon_gram+=1\n",
    "        elif len(s[i][1]) == 0:\n",
    "            levon_gram+=1\n",
    "    if (len(s[i][0]) == 1) & str.isupper(s[i][0]) & ((len(s[i][1]) >= 0) | (len(s[i][1]) <= 2)):\n",
    "        if len(s[i][1]) == 2:\n",
    "            if str.isupper(s[i][1][1]) & str.islower(s[i][1][0]):\n",
    "                pravo_gram+=1\n",
    "        elif len(s[i][1]) == 1:\n",
    "            pravo_gram+=1\n",
    "        elif len(s[i][1]) == 0:\n",
    "            pravo_gram+=1\n",
    "    if (len(s[i][0]) == 1) & str.isupper(s[i][0]):\n",
    "        con_svobod += 1\n",
    "    if (len(s[i][1]) != 0) & (len(s[i][0]) != 'S'):\n",
    "        for j in s[i][0]:\n",
    "            if str.isupper(j):\n",
    "                con_zav += 1\n",
    "                break\n",
    "    elif (len(s[i][0]) == 'S') & (len(s[i][1]) == 0):\n",
    "        con_zav += 1\n",
    "if levon_gram == n:\n",
    "    print(\"Леволинейная грамматика\")\n",
    "    check = False\n",
    "elif (pravo_gram == n) & check:\n",
    "    print(\"Праволинейная грамматика\")\n",
    "    check = False\n",
    "elif (con_svobod == n) & check:\n",
    "    print(\"Контекстно-свободная грамматика\")\n",
    "    check = False\n",
    "elif (con_zav == n) & check:\n",
    "    print(\"Контекстно-зависимая грамматика\")\n",
    "    check = False\n",
    "elif check:\n",
    "    print(\"Неограниченная грамматиками\")"
   ]
  },
  {
   "cell_type": "code",
   "execution_count": null,
   "metadata": {},
   "outputs": [],
   "source": []
  }
 ],
 "metadata": {
  "kernelspec": {
   "display_name": "Python 3",
   "language": "python",
   "name": "python3"
  },
  "language_info": {
   "codemirror_mode": {
    "name": "ipython",
    "version": 3
   },
   "file_extension": ".py",
   "mimetype": "text/x-python",
   "name": "python",
   "nbconvert_exporter": "python",
   "pygments_lexer": "ipython3",
   "version": "3.6.5"
  }
 },
 "nbformat": 4,
 "nbformat_minor": 2
}
