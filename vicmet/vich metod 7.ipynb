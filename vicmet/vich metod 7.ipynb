{
 "cells": [
  {
   "cell_type": "code",
   "execution_count": 13,
   "metadata": {},
   "outputs": [],
   "source": [
    "import numpy as np"
   ]
  },
  {
   "cell_type": "code",
   "execution_count": 14,
   "metadata": {},
   "outputs": [],
   "source": [
    "matrix_a = np.array([[2, 1, 3],\n",
    "                    [11, 7, 5],\n",
    "                    [9, 8, 4]])\n",
    "b = np.array([1, -6, -5])"
   ]
  },
  {
   "cell_type": "code",
   "execution_count": 15,
   "metadata": {},
   "outputs": [],
   "source": [
    "def lu_razl(mat_a):\n",
    "    n = len(mat_a[0])\n",
    "    mat_lu = np.empty([n, n])\n",
    "    for i in range(n):\n",
    "        for j in range(n):\n",
    "            if i == 0:\n",
    "                mat_lu[i][j] = mat_a[i][j]\n",
    "                if j > i:\n",
    "                    mat_lu[j][i] = mat_a[j][i] / mat_lu[i][i]\n",
    "            else:\n",
    "                if j >= i:\n",
    "                    vr = 0\n",
    "                    for k in range(i):\n",
    "                        vr += mat_lu[i][k] * mat_lu[k][j]\n",
    "                    mat_lu[i][j] = mat_a[i][j] - vr\n",
    "                if j >= i+1:\n",
    "                    vr = 0\n",
    "                    for k in range(i):\n",
    "                        vr += mat_lu[j][k] * mat_lu[k][i]\n",
    "                    mat_lu[j][i] = (mat_a[j][i] - vr) / mat_lu[i][i]\n",
    "    return mat_lu"
   ]
  },
  {
   "cell_type": "code",
   "execution_count": 16,
   "metadata": {},
   "outputs": [],
   "source": [
    "lu = lu_razl(matrix_a)"
   ]
  },
  {
   "cell_type": "code",
   "execution_count": 17,
   "metadata": {},
   "outputs": [],
   "source": [
    "def landu(mat_lu, loru = 'l'):\n",
    "    n = len(mat_lu[0])\n",
    "    if loru == 'l':\n",
    "        for i in range(n):\n",
    "            for j in range(n):\n",
    "                if i == j:\n",
    "                    mat_lu[i][j] = 1\n",
    "                if j > i:\n",
    "                    mat_lu[i][j] = 0\n",
    "        return mat_lu\n",
    "    if loru == 'u':\n",
    "        for i in range(n):\n",
    "            for j in range(n):\n",
    "                if i > j:\n",
    "                    mat_lu[i][j] = 0\n",
    "        return mat_lu"
   ]
  },
  {
   "cell_type": "code",
   "execution_count": 35,
   "metadata": {},
   "outputs": [
    {
     "data": {
      "text/plain": [
       "array([[  2.        ,   1.        ,   3.        ],\n",
       "       [  0.        ,   1.5       , -11.5       ],\n",
       "       [  0.        ,   0.        ,  17.33333333]])"
      ]
     },
     "execution_count": 35,
     "metadata": {},
     "output_type": "execute_result"
    }
   ],
   "source": [
    "landu(lu.copy(), 'u')"
   ]
  },
  {
   "cell_type": "code",
   "execution_count": 59,
   "metadata": {},
   "outputs": [],
   "source": [
    "def found_vec_y(mat_l, vec):\n",
    "    n = len(mat_l[0])\n",
    "    y = np.zeros(n)\n",
    "    for i in range(len(mat_l[0])):\n",
    "        vr = 0\n",
    "        for j in range(i+1):\n",
    "            if j < i:\n",
    "                vr += mat_l[i][j] * y[j]\n",
    "            if j == i:\n",
    "                y[i] = (vec[i] - vr) / mat_l[i][j]\n",
    "    return y"
   ]
  },
  {
   "cell_type": "code",
   "execution_count": 60,
   "metadata": {},
   "outputs": [],
   "source": [
    "y = found_vec_y(landu(lu.copy(), 'l'), b)"
   ]
  },
  {
   "cell_type": "code",
   "execution_count": 61,
   "metadata": {},
   "outputs": [
    {
     "data": {
      "text/plain": [
       "array([  1.        , -11.5       ,  17.33333333])"
      ]
     },
     "execution_count": 61,
     "metadata": {},
     "output_type": "execute_result"
    }
   ],
   "source": [
    "y"
   ]
  },
  {
   "cell_type": "code",
   "execution_count": 64,
   "metadata": {},
   "outputs": [],
   "source": [
    "def found_vec_x(mat_u, vec):\n",
    "    n = len(mat_u[0])\n",
    "    x = np.zeros(n)\n",
    "    for i in range(n):\n",
    "        vr = 0\n",
    "        for j in range(i+1):\n",
    "            if (n - j - 1) > (n - i - 1):\n",
    "                vr += mat_u[n - i - 1][n - j - 1] * x[n - j - 1]\n",
    "            if (n - j - 1) == (n - i - 1):\n",
    "                x[n - i - 1] = (vec[n - i - 1] - vr) / mat_u[n - i - 1][n - j - 1]\n",
    "    return x"
   ]
  },
  {
   "cell_type": "code",
   "execution_count": 66,
   "metadata": {},
   "outputs": [],
   "source": [
    "x = found_vec_x(landu(lu.copy(), 'u'), y)"
   ]
  },
  {
   "cell_type": "code",
   "execution_count": 67,
   "metadata": {},
   "outputs": [
    {
     "data": {
      "text/plain": [
       "array([-1.,  0.,  1.])"
      ]
     },
     "execution_count": 67,
     "metadata": {},
     "output_type": "execute_result"
    }
   ],
   "source": [
    "x"
   ]
  },
  {
   "cell_type": "code",
   "execution_count": 70,
   "metadata": {},
   "outputs": [
    {
     "name": "stdout",
     "output_type": "stream",
     "text": [
      "TEST\n",
      " x = [-1.  0.  1.]\n",
      " A * x = [ 1. -6. -5.]\n",
      " b = [ 1 -6 -5]\n"
     ]
    }
   ],
   "source": [
    "print(f\"TEST\\n x = {x}\\n A * x = {np.matmul(matrix_a, x)}\\n b = {b}\")"
   ]
  },
  {
   "cell_type": "code",
   "execution_count": null,
   "metadata": {},
   "outputs": [],
   "source": []
  }
 ],
 "metadata": {
  "kernelspec": {
   "display_name": "Python 3",
   "language": "python",
   "name": "python3"
  },
  "language_info": {
   "codemirror_mode": {
    "name": "ipython",
    "version": 3
   },
   "file_extension": ".py",
   "mimetype": "text/x-python",
   "name": "python",
   "nbconvert_exporter": "python",
   "pygments_lexer": "ipython3",
   "version": "3.6.5"
  }
 },
 "nbformat": 4,
 "nbformat_minor": 2
}
