{
 "cells": [
  {
   "cell_type": "code",
   "execution_count": 5,
   "metadata": {},
   "outputs": [],
   "source": [
    "from math import *\n",
    "from math import e as enum"
   ]
  },
  {
   "cell_type": "code",
   "execution_count": 6,
   "metadata": {},
   "outputs": [
    {
     "name": "stdout",
     "output_type": "stream",
     "text": [
      "5\n"
     ]
    }
   ],
   "source": [
    "a = 0\n",
    "b = 1\n",
    "y0 = sqrt(enum)\n",
    "#y0 = 1/enum\n",
    "n = int(input())"
   ]
  },
  {
   "cell_type": "code",
   "execution_count": 7,
   "metadata": {},
   "outputs": [],
   "source": [
    "def function(x,y):\n",
    "    return (x*y)"
   ]
  },
  {
   "cell_type": "code",
   "execution_count": 8,
   "metadata": {},
   "outputs": [],
   "source": [
    "c = log(y0)"
   ]
  },
  {
   "cell_type": "code",
   "execution_count": 9,
   "metadata": {},
   "outputs": [
    {
     "data": {
      "text/plain": [
       "0.5"
      ]
     },
     "execution_count": 9,
     "metadata": {},
     "output_type": "execute_result"
    }
   ],
   "source": [
    "c"
   ]
  },
  {
   "cell_type": "code",
   "execution_count": 10,
   "metadata": {},
   "outputs": [],
   "source": [
    "def func_analyc(x):\n",
    "    return exp(x**2 / 2 + c)"
   ]
  },
  {
   "cell_type": "code",
   "execution_count": 11,
   "metadata": {},
   "outputs": [],
   "source": [
    "mas = [round(a + (b-a)/n*i, 5) for i in range(n+1)]"
   ]
  },
  {
   "cell_type": "code",
   "execution_count": 12,
   "metadata": {},
   "outputs": [],
   "source": [
    "x_delt = mas[1] - mas[0]"
   ]
  },
  {
   "cell_type": "code",
   "execution_count": 13,
   "metadata": {},
   "outputs": [],
   "source": [
    "def eiler(n):\n",
    "    y_sh = []\n",
    "    y_sh.append(y0)\n",
    "    for i in range(n):\n",
    "        y_sh.append(y_sh[i] + x_delt*function(mas[i],y_sh[i]))\n",
    "    y_kor = []\n",
    "    y_kor.append(y0)\n",
    "    for i in range(n):\n",
    "        y_kor.append(y_kor[i] + x_delt*(function(mas[i], y_kor[i]) + function(mas[i+1], y_sh[i+1]))/2)\n",
    "    #y_kor = y_sh\n",
    "    return (y_kor)"
   ]
  },
  {
   "cell_type": "code",
   "execution_count": 14,
   "metadata": {},
   "outputs": [],
   "source": [
    "mas_eiler = eiler(n)"
   ]
  },
  {
   "cell_type": "code",
   "execution_count": 15,
   "metadata": {},
   "outputs": [],
   "source": [
    "def analytics(n):\n",
    "    y_analy = [func_analyc(x) for x in mas]\n",
    "    return (y_analy)"
   ]
  },
  {
   "cell_type": "code",
   "execution_count": 16,
   "metadata": {},
   "outputs": [],
   "source": [
    "mas_analytics = analytics(n)"
   ]
  },
  {
   "cell_type": "code",
   "execution_count": 17,
   "metadata": {},
   "outputs": [],
   "source": [
    "def delta(n, y_kor, y_analy):\n",
    "    ros = [round(abs(y_kor[i] - y_analy[i]), 5) for i in range(n+1)]\n",
    "    return(ros)"
   ]
  },
  {
   "cell_type": "code",
   "execution_count": 18,
   "metadata": {},
   "outputs": [],
   "source": [
    "mas_delta = delta(n, mas_eiler, mas_analytics)"
   ]
  },
  {
   "cell_type": "code",
   "execution_count": 19,
   "metadata": {},
   "outputs": [
    {
     "name": "stdout",
     "output_type": "stream",
     "text": [
      "x       |  f_analytic(x)          |  Eiler(x)               | Delta(x)\n",
      "--------|-------------------------|-------------------------|---------------------\n",
      "0.0     |  1.6487212707001282     |  1.6487212707001282     | 0.0\n",
      "--------|-------------------------|-------------------------|---------------------\n",
      "0.2     |  1.6820276496988864     |  1.6816956961141307     | 0.00033\n",
      "--------|-------------------------|-------------------------|---------------------\n",
      "0.4     |  1.7860384307500734     |  1.7839164148975386     | 0.00212\n",
      "--------|-------------------------|-------------------------|---------------------\n",
      "0.6     |  1.9738777322304475     |  1.9663836953684632     | 0.00749\n",
      "--------|-------------------------|-------------------------|---------------------\n",
      "0.8     |  2.270499837532406      |  2.2502919154106054     | 0.02021\n",
      "--------|-------------------------|-------------------------|---------------------\n",
      "1.0     |  2.718281828459045      |  2.670906806207504      | 0.04738\n",
      "--------|-------------------------|-------------------------|---------------------\n"
     ]
    }
   ],
   "source": [
    "print(\"x\" + \" \"*7 + \"|\" + \" \"*2 + \"f_analytic(x)\" + \" \"*10 + \"|\" + \" \" + \" Eiler(x)\" + \" \"*15 + \"|\" + \" \" + \"Delta(x)\" )\n",
    "print(\"--------|-------------------------|-------------------------|---------------------\")\n",
    "for i in range(n+1):\n",
    "    print(f\"{mas[i]}\" + \" \"*(8 - len(str(mas[i]))) + \"|\" + \" \"*2 + f\"{mas_analytics[i]}\" + \" \"*(23 - len(str(mas_analytics[i]))) + \"|\" + \" \"*2 + f\"{mas_eiler[i]}\" + \" \"*(23 - len(str(mas_eiler[i]))) + \"| \" + f\"{mas_delta[i]}\")\n",
    "    print(\"--------|-------------------------|-------------------------|---------------------\")"
   ]
  },
  {
   "cell_type": "code",
   "execution_count": 20,
   "metadata": {},
   "outputs": [
    {
     "name": "stdout",
     "output_type": "stream",
     "text": [
      "25\n"
     ]
    }
   ],
   "source": [
    "n = 1\n",
    "while True:\n",
    "    k = 0\n",
    "    mas = [round(a + (b-a)/n*i, 5) for i in range(n+1)]\n",
    "    x_delt = mas[1] - mas[0]\n",
    "    mas_eiler = eiler(n)\n",
    "    mas_analytics = analytics(n)\n",
    "    mas_delta = delta(n, mas_eiler, mas_analytics)\n",
    "    for i in mas_delta:\n",
    "        if i < 0.01:\n",
    "            k+=1\n",
    "    if k == len(mas_delta):\n",
    "        print(n)\n",
    "        break\n",
    "    n+=1"
   ]
  },
  {
   "cell_type": "code",
   "execution_count": null,
   "metadata": {},
   "outputs": [],
   "source": []
  }
 ],
 "metadata": {
  "kernelspec": {
   "display_name": "Python 3",
   "language": "python",
   "name": "python3"
  },
  "language_info": {
   "codemirror_mode": {
    "name": "ipython",
    "version": 3
   },
   "file_extension": ".py",
   "mimetype": "text/x-python",
   "name": "python",
   "nbconvert_exporter": "python",
   "pygments_lexer": "ipython3",
   "version": "3.6.5"
  }
 },
 "nbformat": 4,
 "nbformat_minor": 2
}
