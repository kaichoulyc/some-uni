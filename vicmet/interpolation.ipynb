{
 "cells": [
  {
   "cell_type": "code",
   "execution_count": 1,
   "metadata": {},
   "outputs": [],
   "source": [
    "from math import *"
   ]
  },
  {
   "cell_type": "code",
   "execution_count": 2,
   "metadata": {},
   "outputs": [
    {
     "name": "stdout",
     "output_type": "stream",
     "text": [
      "3\n"
     ]
    }
   ],
   "source": [
    "a = 0\n",
    "b = 1\n",
    "n = int(input())"
   ]
  },
  {
   "cell_type": "code",
   "execution_count": 3,
   "metadata": {},
   "outputs": [
    {
     "name": "stdout",
     "output_type": "stream",
     "text": [
      "[0.0, 0.3333333333333333, 0.6666666666666666, 1.0]\n"
     ]
    }
   ],
   "source": [
    "mas = [a + (b-a)/n*i for i in range(n+1)]\n",
    "print(mas)"
   ]
  },
  {
   "cell_type": "code",
   "execution_count": 4,
   "metadata": {},
   "outputs": [],
   "source": [
    "def func(x):\n",
    "    return((cos(1 + 2 * x) / sin(x * x + 1)))"
   ]
  },
  {
   "cell_type": "code",
   "execution_count": 5,
   "metadata": {},
   "outputs": [
    {
     "name": "stdout",
     "output_type": "stream",
     "text": [
      "[0.6420926159343308, -0.1068114048575343, -0.6963089650810678, -1.0887444167267324]\n"
     ]
    }
   ],
   "source": [
    "masf = [func(x) for x in mas]\n",
    "print(masf)"
   ]
  },
  {
   "cell_type": "code",
   "execution_count": 6,
   "metadata": {},
   "outputs": [],
   "source": [
    "def poly_lag(x, y_mas):\n",
    "    s = 0\n",
    "    for i in range(n+1):\n",
    "        pr = 1\n",
    "        for j in range(n+1):\n",
    "            if (i != j):\n",
    "                pr *= ((x - mas[j])/(mas[i] - mas[j]))\n",
    "        s += (y_mas[i] * pr)\n",
    "    return(s)"
   ]
  },
  {
   "cell_type": "code",
   "execution_count": 7,
   "metadata": {},
   "outputs": [
    {
     "name": "stdout",
     "output_type": "stream",
     "text": [
      "[0.6420926159343308, -0.1068114048575343, -0.6963089650810678, -1.0887444167267324]\n"
     ]
    }
   ],
   "source": [
    "pol_mas = [poly_lag(x, masf) for x in mas]\n",
    "print(pol_mas)"
   ]
  },
  {
   "cell_type": "code",
   "execution_count": 8,
   "metadata": {},
   "outputs": [],
   "source": [
    "def delta(p, j):\n",
    "    if p == 1:\n",
    "        return (masf[j] - masf[j - 1])\n",
    "    return (delta(p - 1, j) - delta(p - 1, j - 1))"
   ]
  },
  {
   "cell_type": "code",
   "execution_count": 9,
   "metadata": {},
   "outputs": [],
   "source": [
    "def ce(colc):\n",
    "    if colc == 0:\n",
    "        return masf[0]\n",
    "    return(delta(colc, colc)/(factorial(colc) * (mas[1]-mas[0]) ** colc))"
   ]
  },
  {
   "cell_type": "code",
   "execution_count": 10,
   "metadata": {},
   "outputs": [],
   "source": [
    "def poly_nute(x):\n",
    "    s = ce(0)\n",
    "    pr = 1\n",
    "    for i in range(n):\n",
    "        pr *= (x - mas[i])\n",
    "        s += (ce(i+1) * pr)\n",
    "    return(s)"
   ]
  },
  {
   "cell_type": "code",
   "execution_count": 11,
   "metadata": {},
   "outputs": [],
   "source": [
    "nut_mas = [poly_nute(x) for x in mas]"
   ]
  },
  {
   "cell_type": "code",
   "execution_count": 12,
   "metadata": {},
   "outputs": [
    {
     "name": "stdout",
     "output_type": "stream",
     "text": [
      "[0.6420926159343308, -0.10681140485753438, -0.696308965081068, -1.0887444167267326]\n"
     ]
    }
   ],
   "source": [
    "print(nut_mas)"
   ]
  },
  {
   "cell_type": "code",
   "execution_count": 13,
   "metadata": {},
   "outputs": [],
   "source": [
    "m = 5"
   ]
  },
  {
   "cell_type": "code",
   "execution_count": 14,
   "metadata": {},
   "outputs": [
    {
     "data": {
      "text/plain": [
       "5"
      ]
     },
     "execution_count": 14,
     "metadata": {},
     "output_type": "execute_result"
    }
   ],
   "source": [
    "m"
   ]
  },
  {
   "cell_type": "code",
   "execution_count": 15,
   "metadata": {},
   "outputs": [
    {
     "name": "stdout",
     "output_type": "stream",
     "text": [
      "[0.0, 0.2, 0.4, 0.6, 0.8, 1.0]\n"
     ]
    }
   ],
   "source": [
    "mas_otv = [round((a + (b-a)/m*i), 10) for i in range(m+1)]\n",
    "print(mas_otv)"
   ]
  },
  {
   "cell_type": "code",
   "execution_count": 16,
   "metadata": {},
   "outputs": [],
   "source": [
    "func_mas = [func(x) for x in mas_otv]"
   ]
  },
  {
   "cell_type": "code",
   "execution_count": 17,
   "metadata": {},
   "outputs": [
    {
     "data": {
      "text/plain": [
       "[0.6420926159343308,\n",
       " 0.19708523860503135,\n",
       " -0.2478199435835986,\n",
       " -0.6018227020281921,\n",
       " -0.8589447395433157,\n",
       " -1.0887444167267324]"
      ]
     },
     "execution_count": 17,
     "metadata": {},
     "output_type": "execute_result"
    }
   ],
   "source": [
    "func_mas"
   ]
  },
  {
   "cell_type": "code",
   "execution_count": 18,
   "metadata": {},
   "outputs": [],
   "source": [
    "mas_Lag = [poly_lag(x, masf) for x in mas_otv]"
   ]
  },
  {
   "cell_type": "code",
   "execution_count": 19,
   "metadata": {},
   "outputs": [
    {
     "data": {
      "text/plain": [
       "[0.6420926159343308,\n",
       " 0.17573014447954602,\n",
       " -0.23866841448401283,\n",
       " -0.5929694409862855,\n",
       " -0.879039315057212,\n",
       " -1.0887444167267324]"
      ]
     },
     "execution_count": 19,
     "metadata": {},
     "output_type": "execute_result"
    }
   ],
   "source": [
    "mas_Lag"
   ]
  },
  {
   "cell_type": "code",
   "execution_count": 20,
   "metadata": {},
   "outputs": [
    {
     "name": "stdout",
     "output_type": "stream",
     "text": [
      "[0.6420926159343308, 0.175730144479546, -0.23866841448401283, -0.5929694409862856, -0.8790393150572122, -1.0887444167267326]\n"
     ]
    }
   ],
   "source": [
    "mas_nute = [poly_nute(x) for x in mas_otv]\n",
    "print(mas_nute)"
   ]
  },
  {
   "cell_type": "code",
   "execution_count": 21,
   "metadata": {},
   "outputs": [
    {
     "name": "stdout",
     "output_type": "stream",
     "text": [
      "x       |  f(x)                   |  L(x)                   | N(x)\n",
      "--------|-------------------------|-------------------------|---------------------\n",
      "0.0     |  0.6420926159343308     |  0.6420926159343308     | 0.6420926159343308\n",
      "--------|-------------------------|-------------------------|---------------------\n",
      "0.2     |  0.19708523860503135    |  0.17573014447954602    | 0.175730144479546\n",
      "--------|-------------------------|-------------------------|---------------------\n",
      "0.4     |  -0.2478199435835986    |  -0.23866841448401283   | -0.23866841448401283\n",
      "--------|-------------------------|-------------------------|---------------------\n",
      "0.6     |  -0.6018227020281921    |  -0.5929694409862855    | -0.5929694409862856\n",
      "--------|-------------------------|-------------------------|---------------------\n",
      "0.8     |  -0.8589447395433157    |  -0.879039315057212     | -0.8790393150572122\n",
      "--------|-------------------------|-------------------------|---------------------\n",
      "1.0     |  -1.0887444167267324    |  -1.0887444167267324    | -1.0887444167267326\n",
      "--------|-------------------------|-------------------------|---------------------\n"
     ]
    }
   ],
   "source": [
    "print(\"x\" + \" \"*7 + \"|\" + \" \"*2 + \"f(x)\" + \" \"*19 + \"|\" + \" \" + \" L(x)\" + \" \"*19 + \"|\" + \" \" + \"N(x)\" )\n",
    "print(\"--------|-------------------------|-------------------------|---------------------\")\n",
    "for i in range(m+1):\n",
    "    print(f\"{mas_otv[i]}\" + \" \"*(8 - len(str(mas_otv[i]))) + \"|\" + \" \"*2 + f\"{func_mas[i]}\" + \" \"*(23 - len(str(func_mas[i]))) + \"|\" + \" \"*2 + f\"{mas_Lag[i]}\" + \" \"*(23 - len(str(mas_Lag[i]))) + \"| \" + f\"{mas_nute[i]}\")\n",
    "    print(\"--------|-------------------------|-------------------------|---------------------\")"
   ]
  },
  {
   "cell_type": "code",
   "execution_count": null,
   "metadata": {},
   "outputs": [],
   "source": []
  },
  {
   "cell_type": "code",
   "execution_count": null,
   "metadata": {},
   "outputs": [],
   "source": []
  }
 ],
 "metadata": {
  "kernelspec": {
   "display_name": "Python 3",
   "language": "python",
   "name": "python3"
  },
  "language_info": {
   "codemirror_mode": {
    "name": "ipython",
    "version": 3
   },
   "file_extension": ".py",
   "mimetype": "text/x-python",
   "name": "python",
   "nbconvert_exporter": "python",
   "pygments_lexer": "ipython3",
   "version": "3.6.5"
  }
 },
 "nbformat": 4,
 "nbformat_minor": 2
}
