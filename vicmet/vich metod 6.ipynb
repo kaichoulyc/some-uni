{
 "cells": [
  {
   "cell_type": "code",
   "execution_count": 8,
   "metadata": {},
   "outputs": [],
   "source": [
    "import numpy as np"
   ]
  },
  {
   "cell_type": "code",
   "execution_count": 37,
   "metadata": {},
   "outputs": [
    {
     "name": "stdout",
     "output_type": "stream",
     "text": [
      "3\n"
     ]
    }
   ],
   "source": [
    "shape = int(input())"
   ]
  },
  {
   "cell_type": "code",
   "execution_count": 38,
   "metadata": {},
   "outputs": [],
   "source": [
    "if shape == 4:\n",
    "    matrix_a = np.array([[10, 6, 2, 0],\n",
    "                      [5, 1, -2, 4],\n",
    "                      [3, 5, 1, -1],\n",
    "                      [0, 6, -2, 2]])\n",
    "if shape == 3:\n",
    "    matrix_a = np.array([[1, 2, 1],\n",
    "                      [2, 1, 1],\n",
    "                      [1, -1, 2]])"
   ]
  },
  {
   "cell_type": "code",
   "execution_count": 39,
   "metadata": {},
   "outputs": [],
   "source": [
    "def lu_razl(mat_a):\n",
    "    n = len(mat_a[0])\n",
    "    mat_lu = np.empty([n, n])\n",
    "    for i in range(n):\n",
    "        for j in range(n):\n",
    "            if i == 0:\n",
    "                mat_lu[i][j] = mat_a[i][j]\n",
    "                if j > i:\n",
    "                    mat_lu[j][i] = mat_a[j][i] / mat_lu[i][i]\n",
    "            else:\n",
    "                if j >= i:\n",
    "                    vr = 0\n",
    "                    for k in range(i):\n",
    "                        vr += mat_lu[i][k] * mat_lu[k][j]\n",
    "                    mat_lu[i][j] = mat_a[i][j] - vr\n",
    "                if j >= i+1:\n",
    "                    vr = 0\n",
    "                    for k in range(i):\n",
    "                        vr += mat_lu[j][k] * mat_lu[k][i]\n",
    "                    mat_lu[j][i] = (mat_a[j][i] - vr) / mat_lu[i][i]\n",
    "    return mat_lu"
   ]
  },
  {
   "cell_type": "code",
   "execution_count": 40,
   "metadata": {},
   "outputs": [],
   "source": [
    "lu = lu_razl(matrix_a)"
   ]
  },
  {
   "cell_type": "code",
   "execution_count": 41,
   "metadata": {},
   "outputs": [
    {
     "data": {
      "text/plain": [
       "array([[ 1.,  2.,  1.],\n",
       "       [ 2., -3., -1.],\n",
       "       [ 1.,  1.,  2.]])"
      ]
     },
     "execution_count": 41,
     "metadata": {},
     "output_type": "execute_result"
    }
   ],
   "source": [
    "lu"
   ]
  },
  {
   "cell_type": "code",
   "execution_count": 42,
   "metadata": {},
   "outputs": [],
   "source": [
    "def landu(mat_lu, loru = 'l'):\n",
    "    n = len(mat_lu[0])\n",
    "    if loru == 'l':\n",
    "        for i in range(n):\n",
    "            for j in range(n):\n",
    "                if i == j:\n",
    "                    mat_lu[i][j] = 1\n",
    "                if j > i:\n",
    "                    mat_lu[i][j] = 0\n",
    "        return mat_lu\n",
    "    if loru == 'u':\n",
    "        for i in range(n):\n",
    "            for j in range(n):\n",
    "                if i > j:\n",
    "                    mat_lu[i][j] = 0\n",
    "        return mat_lu"
   ]
  },
  {
   "cell_type": "code",
   "execution_count": 43,
   "metadata": {},
   "outputs": [
    {
     "name": "stdout",
     "output_type": "stream",
     "text": [
      "L = \n",
      "[[1. 0. 0.]\n",
      " [2. 1. 0.]\n",
      " [1. 1. 1.]]\n",
      " U = \n",
      "[[ 1.  2.  1.]\n",
      " [ 0. -3. -1.]\n",
      " [ 0.  0.  2.]]\n",
      " B = L * X - A\n",
      " [[0. 0. 0.]\n",
      " [0. 0. 0.]\n",
      " [0. 0. 0.]]\n"
     ]
    }
   ],
   "source": [
    "print(f\"L = \\n{landu(lu.copy(), 'l')}\\n U = \\n{landu(lu.copy(), 'u')}\\n B = L * X - A\\n {np.matmul(landu(lu.copy(), 'l'), landu(lu.copy(), 'u')) - matrix_a}\" )"
   ]
  },
  {
   "cell_type": "code",
   "execution_count": null,
   "metadata": {},
   "outputs": [],
   "source": []
  }
 ],
 "metadata": {
  "kernelspec": {
   "display_name": "Python 3",
   "language": "python",
   "name": "python3"
  },
  "language_info": {
   "codemirror_mode": {
    "name": "ipython",
    "version": 3
   },
   "file_extension": ".py",
   "mimetype": "text/x-python",
   "name": "python",
   "nbconvert_exporter": "python",
   "pygments_lexer": "ipython3",
   "version": "3.6.5"
  }
 },
 "nbformat": 4,
 "nbformat_minor": 2
}
