{
 "cells": [
  {
   "cell_type": "code",
   "execution_count": 39,
   "metadata": {},
   "outputs": [],
   "source": [
    "from math import *\n",
    "import numpy as np\n",
    "import matplotlib.pyplot as plt\n",
    "%matplotlib inline"
   ]
  },
  {
   "cell_type": "code",
   "execution_count": 15,
   "metadata": {},
   "outputs": [],
   "source": [
    "def line_draw(x0, y0, x1, y1, mas):\n",
    "    dx = x1 - x0\n",
    "    dy = y1 - y0\n",
    "    x, y = x0, y0\n",
    "    sign_x = 1 if dx>0 else -1\n",
    "    sign_y = 1 if dy>0 else -1\n",
    "    \n",
    "    error = 0\n",
    "    if abs(dx) > abs(dy):\n",
    "        while abs(x - x1) > 0:\n",
    "            mas[x][y] = 1\n",
    "            error += abs(dy)\n",
    "            if (2 * error) >= abs(dx):\n",
    "                y += sign_y\n",
    "                error -= abs(dx)\n",
    "            x += sign_x\n",
    "    else:\n",
    "        while abs(y - y1) > 0:\n",
    "            mas[x][y] = 1\n",
    "            error += abs(dx)\n",
    "            if (2 * error) >= abs(dy):\n",
    "                x += sign_x\n",
    "                error -= abs(dy)\n",
    "            y += abs(dy)\n",
    "    return mas"
   ]
  },
  {
   "cell_type": "code",
   "execution_count": 16,
   "metadata": {},
   "outputs": [
    {
     "name": "stdout",
     "output_type": "stream",
     "text": [
      "200\n",
      "500\n",
      "300\n",
      "700\n"
     ]
    }
   ],
   "source": [
    "x0 = int(input())\n",
    "y0 = int(input())\n",
    "x1 = int(input())\n",
    "y1 = int(input())"
   ]
  },
  {
   "cell_type": "code",
   "execution_count": 17,
   "metadata": {},
   "outputs": [],
   "source": [
    "mas = np.zeros((1000, 1000))"
   ]
  },
  {
   "cell_type": "code",
   "execution_count": 18,
   "metadata": {},
   "outputs": [],
   "source": [
    "line = line_draw(x0, y0, x1, y1, mas)"
   ]
  },
  {
   "cell_type": "code",
   "execution_count": 19,
   "metadata": {},
   "outputs": [
    {
     "data": {
      "text/plain": [
       "<matplotlib.image.AxesImage at 0x7f0d9bb3f198>"
      ]
     },
     "execution_count": 19,
     "metadata": {},
     "output_type": "execute_result"
    },
    {
     "data": {
      "image/png": "[encoded data removed]",
      "text/plain": [
       "<Figure size 432x288 with 1 Axes>"
      ]
     },
     "metadata": {},
     "output_type": "display_data"
    }
   ],
   "source": [
    "plt.imshow(line)"
   ]
  },
  {
   "cell_type": "code",
   "execution_count": 20,
   "metadata": {},
   "outputs": [],
   "source": [
    "plt.imsave( \"line.png\", line)"
   ]
  },
  {
   "cell_type": "code",
   "execution_count": 21,
   "metadata": {},
   "outputs": [],
   "source": [
    "def circle_draw(x0, y0, r, circle):\n",
    "    x, y = 0, r\n",
    "    error = 0\n",
    "    delta = 1 - 2 * r\n",
    "    while y >=0:\n",
    "        circle[x0 + x][y0 + y] = 1\n",
    "        error = 2 * (delta + y) - 1\n",
    "        if (delta < 0) and (error <= 0):\n",
    "            x += 1\n",
    "            delta += (2 * x + 1)\n",
    "            continue\n",
    "        if (delta > 0) and (error > 0):\n",
    "            y -= 1\n",
    "            delta -= (2 * y + 1)\n",
    "            continue\n",
    "        x += 1\n",
    "        y -= 1\n",
    "        delta += (2 * (x - y))\n",
    "    x, y = 0, r\n",
    "    while y >=0:\n",
    "        circle[x0 + x][y0 - y] = 1\n",
    "        error = 2 * (delta + y) - 1\n",
    "        if (delta < 0) and (error <= 0):\n",
    "            x += 1\n",
    "            delta += (2 * x + 1)\n",
    "            continue\n",
    "        if (delta > 0) and (error > 0):\n",
    "            y -= 1\n",
    "            delta -= (2 * y + 1)\n",
    "            continue\n",
    "        x += 1\n",
    "        y -= 1\n",
    "        delta += (2 * (x - y))\n",
    "    x, y = 0, r\n",
    "    while y >=0:\n",
    "        circle[x0 - x][y0 + y] = 1\n",
    "        error = 2 * (delta + y) - 1\n",
    "        if (delta < 0) and (error <= 0):\n",
    "            x += 1\n",
    "            delta += (2 * x + 1)\n",
    "            continue\n",
    "        if (delta > 0) and (error > 0):\n",
    "            y -= 1\n",
    "            delta -= (2 * y + 1)\n",
    "            continue\n",
    "        x += 1\n",
    "        y -= 1\n",
    "        delta += (2 * (x - y))\n",
    "    x, y = 0, r\n",
    "    while y >=0:\n",
    "        circle[x0 - x][y0 - y] = 1\n",
    "        error = 2 * (delta + y) - 1\n",
    "        if (delta < 0) and (error <= 0):\n",
    "            x += 1\n",
    "            delta += (2 * x + 1)\n",
    "            continue\n",
    "        if (delta > 0) and (error > 0):\n",
    "            y -= 1\n",
    "            delta -= (2 * y + 1)\n",
    "            continue\n",
    "        x += 1\n",
    "        y -= 1\n",
    "        delta += (2 * (x - y))\n",
    "    return circle"
   ]
  },
  {
   "cell_type": "code",
   "execution_count": 23,
   "metadata": {},
   "outputs": [
    {
     "name": "stdout",
     "output_type": "stream",
     "text": [
      "500\n",
      "500\n",
      "300\n"
     ]
    }
   ],
   "source": [
    "cx = int(input())\n",
    "cy = int(input())\n",
    "R = int(input())"
   ]
  },
  {
   "cell_type": "code",
   "execution_count": 24,
   "metadata": {},
   "outputs": [],
   "source": [
    "mas1 = np.zeros((1000, 1000))"
   ]
  },
  {
   "cell_type": "code",
   "execution_count": 26,
   "metadata": {},
   "outputs": [],
   "source": [
    "circle = circle_draw(cx, cy, R, mas1)"
   ]
  },
  {
   "cell_type": "code",
   "execution_count": 27,
   "metadata": {},
   "outputs": [
    {
     "data": {
      "text/plain": [
       "<matplotlib.image.AxesImage at 0x7f0d9bb0cda0>"
      ]
     },
     "execution_count": 27,
     "metadata": {},
     "output_type": "execute_result"
    },
    {
     "data": {
      "image/png": "[encoded data removed]",
      "text/plain": [
       "<Figure size 432x288 with 1 Axes>"
      ]
     },
     "metadata": {},
     "output_type": "display_data"
    }
   ],
   "source": [
    "plt.imshow(circle)"
   ]
  },
  {
   "cell_type": "code",
   "execution_count": 28,
   "metadata": {},
   "outputs": [],
   "source": [
    "plt.imsave( \"circle.png\", circle)"
   ]
  },
  {
   "cell_type": "code",
   "execution_count": 29,
   "metadata": {},
   "outputs": [
    {
     "name": "stdout",
     "output_type": "stream",
     "text": [
      "4\n"
     ]
    }
   ],
   "source": [
    "delen = int(input())"
   ]
  },
  {
   "cell_type": "code",
   "execution_count": 97,
   "metadata": {},
   "outputs": [],
   "source": [
    "ugol = radians(360/delen)"
   ]
  },
  {
   "cell_type": "code",
   "execution_count": 98,
   "metadata": {},
   "outputs": [],
   "source": [
    "X = np.array([cx, cy])"
   ]
  },
  {
   "cell_type": "code",
   "execution_count": 99,
   "metadata": {},
   "outputs": [],
   "source": [
    "X_len = np.array([cx - cx, cy + R - cy])"
   ]
  },
  {
   "cell_type": "code",
   "execution_count": 100,
   "metadata": {},
   "outputs": [
    {
     "data": {
      "text/plain": [
       "array([  0, 300])"
      ]
     },
     "execution_count": 100,
     "metadata": {},
     "output_type": "execute_result"
    }
   ],
   "source": [
    "X_len"
   ]
  },
  {
   "cell_type": "code",
   "execution_count": null,
   "metadata": {},
   "outputs": [],
   "source": [
    " "
   ]
  },
  {
   "cell_type": "code",
   "execution_count": 101,
   "metadata": {},
   "outputs": [],
   "source": [
    "pov = np.array([[cos(ugol),sin(ugol)],[-sin(ugol),cos(ugol)]])"
   ]
  },
  {
   "cell_type": "code",
   "execution_count": 102,
   "metadata": {},
   "outputs": [
    {
     "data": {
      "text/plain": [
       "array([[ 6.123234e-17,  1.000000e+00],\n",
       "       [-1.000000e+00,  6.123234e-17]])"
      ]
     },
     "execution_count": 102,
     "metadata": {},
     "output_type": "execute_result"
    }
   ],
   "source": [
    "pov"
   ]
  },
  {
   "cell_type": "code",
   "execution_count": 103,
   "metadata": {},
   "outputs": [],
   "source": [
    "x_nov = np.matmul(pov, X_len)"
   ]
  },
  {
   "cell_type": "code",
   "execution_count": 104,
   "metadata": {},
   "outputs": [
    {
     "data": {
      "text/plain": [
       "array([3.0000000e+02, 1.8369702e-14])"
      ]
     },
     "execution_count": 104,
     "metadata": {},
     "output_type": "execute_result"
    }
   ],
   "source": [
    "x_nov"
   ]
  },
  {
   "cell_type": "code",
   "execution_count": 105,
   "metadata": {},
   "outputs": [],
   "source": [
    "x_nov = x_nov + X"
   ]
  },
  {
   "cell_type": "code",
   "execution_count": 106,
   "metadata": {},
   "outputs": [
    {
     "data": {
      "text/plain": [
       "array([800., 500.])"
      ]
     },
     "execution_count": 106,
     "metadata": {},
     "output_type": "execute_result"
    }
   ],
   "source": [
    "x_nov"
   ]
  },
  {
   "cell_type": "code",
   "execution_count": null,
   "metadata": {},
   "outputs": [],
   "source": []
  }
 ],
 "metadata": {
  "kernelspec": {
   "display_name": "Python 3",
   "language": "python",
   "name": "python3"
  },
  "language_info": {
   "codemirror_mode": {
    "name": "ipython",
    "version": 3
   },
   "file_extension": ".py",
   "mimetype": "text/x-python",
   "name": "python",
   "nbconvert_exporter": "python",
   "pygments_lexer": "ipython3",
   "version": "3.6.5"
  }
 },
 "nbformat": 4,
 "nbformat_minor": 2
}
