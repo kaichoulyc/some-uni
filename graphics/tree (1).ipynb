{
 "cells": [
  {
   "cell_type": "code",
   "execution_count": 14,
   "metadata": {},
   "outputs": [],
   "source": [
    "from math import *\n",
    "import numpy as np\n",
    "import cv2\n",
    "import matplotlib.pyplot as plt\n",
    "from random import *\n",
    "%matplotlib inline"
   ]
  },
  {
   "cell_type": "code",
   "execution_count": 15,
   "metadata": {},
   "outputs": [],
   "source": [
    "def draw_sqare_nex(img, x1, y1, x2, y2):\n",
    "    x_len = x2 - x1\n",
    "    y_len = y2 - y1\n",
    "    x1_len = x1 - x2\n",
    "    y1_len = y1 - y2\n",
    "    x4 = x1 + (x_len*cos(radians(90)) + y_len*sin(radians(90)))\n",
    "    y4 = y1 + (x_len*sin(radians(90))*(-1) + y_len*cos(radians(90)))\n",
    "    x3 = x2 + (x1_len*cos(radians(90)) - y1_len*sin(radians(90)))\n",
    "    y3 = y2 + (x1_len*sin(radians(90)) + y1_len*cos(radians(90)))\n",
    "    pts = np.array([[x1,y1],[x2,y2],[x3,y3],[x4,y4]], np.int32)\n",
    "    pts = pts.reshape((-1,1,2))\n",
    "    image = cv2.fillConvexPoly(img, pts, (randint(0,255),randint(0,255),randint(0,255)))\n",
    "    return image, x4, y4, x3, y3"
   ]
  },
  {
   "cell_type": "code",
   "execution_count": 16,
   "metadata": {},
   "outputs": [],
   "source": [
    "def tree_pi(image, x, y, x1, y1, side, alpha, deep):\n",
    "    image, x3, y3, x2, y2 = draw_sqare_nex(image, x, y, x1, y1)\n",
    "    new_side = side * cos(alpha)\n",
    "    ros_side = new_side / side\n",
    "    x_len = x2 - x3\n",
    "    y_len = y2 - y3\n",
    "    x4 = x3 + (x_len*cos(alpha) + y_len*sin(alpha))*ros_side\n",
    "    y4 = y3 + (x_len*sin(alpha)*(-1) + y_len*cos(alpha))*ros_side\n",
    "    if deep > 1:\n",
    "        tree_pi(image, x3, y3, x4, y4, new_side, alpha, deep-1)\n",
    "        tree_pi(image, x4, y4, x2, y2, side * sin(alpha), alpha, deep-1)"
   ]
  },
  {
   "cell_type": "code",
   "execution_count": 17,
   "metadata": {},
   "outputs": [
    {
     "name": "stdout",
     "output_type": "stream",
     "text": [
      "Введите угол: \n",
      "30\n",
      "Введите глубину: \n",
      "9\n",
      "Введите размер стороны: \n",
      "100\n"
     ]
    }
   ],
   "source": [
    "print(\"Введите угол: \")\n",
    "ugol = int(input())\n",
    "print(\"Введите глубину: \")\n",
    "glub = int(input())\n",
    "print(\"Введите размер стороны: \")\n",
    "storona = int(input())\n",
    "start = (storona * 10 / 2 - storona / 2, storona * 10)"
   ]
  },
  {
   "cell_type": "code",
   "execution_count": 21,
   "metadata": {},
   "outputs": [],
   "source": [
    "img = np.zeros((storona*10,storona*10,3), np.int32)"
   ]
  },
  {
   "cell_type": "code",
   "execution_count": 22,
   "metadata": {},
   "outputs": [],
   "source": [
    "#tree(img, start[0], start[1], storona, radians(90), radians(ugol),glub )"
   ]
  },
  {
   "cell_type": "code",
   "execution_count": 23,
   "metadata": {},
   "outputs": [],
   "source": [
    "tree_pi(img, start[0], start[1], (start[0] + storona), start[1], storona, radians(ugol), glub)"
   ]
  },
  {
   "cell_type": "code",
   "execution_count": 24,
   "metadata": {},
   "outputs": [
    {
     "data": {
      "text/plain": [
       "<matplotlib.image.AxesImage at 0x7f865db969e8>"
      ]
     },
     "execution_count": 24,
     "metadata": {},
     "output_type": "execute_result"
    },
    {
     "data": {
      "image/png": "[encoded data removed]",
      "text/plain": [
       "<Figure size 432x288 with 1 Axes>"
      ]
     },
     "metadata": {},
     "output_type": "display_data"
    }
   ],
   "source": [
    "plt.imshow(img)"
   ]
  },
  {
   "cell_type": "code",
   "execution_count": 8,
   "metadata": {},
   "outputs": [],
   "source": [
    "plt.imsave(\"tree.png\",img)"
   ]
  },
  {
   "cell_type": "code",
   "execution_count": null,
   "metadata": {},
   "outputs": [],
   "source": []
  },
  {
   "cell_type": "code",
   "execution_count": null,
   "metadata": {},
   "outputs": [],
   "source": []
  }
 ],
 "metadata": {
  "kernelspec": {
   "display_name": "Python 3",
   "language": "python",
   "name": "python3"
  },
  "language_info": {
   "codemirror_mode": {
    "name": "ipython",
    "version": 3
   },
   "file_extension": ".py",
   "mimetype": "text/x-python",
   "name": "python",
   "nbconvert_exporter": "python",
   "pygments_lexer": "ipython3",
   "version": "3.6.5"
  }
 },
 "nbformat": 4,
 "nbformat_minor": 2
}
