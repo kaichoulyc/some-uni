{
 "cells": [
  {
   "cell_type": "code",
   "execution_count": 16,
   "metadata": {},
   "outputs": [],
   "source": [
    "import numpy as np\n",
    "import cv2\n",
    "from random import *\n",
    "import matplotlib.pyplot as plt\n",
    "import imageio\n",
    "%matplotlib inline"
   ]
  },
  {
   "cell_type": "code",
   "execution_count": 17,
   "metadata": {},
   "outputs": [],
   "source": [
    "coordinates = [[0,0,0],\n",
    "              [3,0,0],\n",
    "              [0,3,0],\n",
    "              [3,3,0],\n",
    "              [0,0,3],\n",
    "              [3,0,3],\n",
    "              [0,3,3],\n",
    "              [3,3,3]]"
   ]
  },
  {
   "cell_type": "code",
   "execution_count": 18,
   "metadata": {},
   "outputs": [],
   "source": [
    "coordinates = np.array(coordinates)"
   ]
  },
  {
   "cell_type": "code",
   "execution_count": 19,
   "metadata": {},
   "outputs": [],
   "source": [
    "connections = [[1,2],\n",
    "              [1,3],\n",
    "              [2,4],\n",
    "              [3,4],\n",
    "              [1,5],\n",
    "              [2,6],\n",
    "              [3,7],\n",
    "              [4,8],\n",
    "              [5,6],\n",
    "              [5,7],\n",
    "              [6,8],\n",
    "              [7,8]]"
   ]
  },
  {
   "cell_type": "code",
   "execution_count": 20,
   "metadata": {},
   "outputs": [],
   "source": [
    "coordinates *= 100"
   ]
  },
  {
   "cell_type": "code",
   "execution_count": 21,
   "metadata": {},
   "outputs": [],
   "source": [
    "coordinates = coordinates - 150"
   ]
  },
  {
   "cell_type": "code",
   "execution_count": 22,
   "metadata": {},
   "outputs": [
    {
     "data": {
      "text/plain": [
       "array([[-150, -150, -150],\n",
       "       [ 150, -150, -150],\n",
       "       [-150,  150, -150],\n",
       "       [ 150,  150, -150],\n",
       "       [-150, -150,  150],\n",
       "       [ 150, -150,  150],\n",
       "       [-150,  150,  150],\n",
       "       [ 150,  150,  150]])"
      ]
     },
     "execution_count": 22,
     "metadata": {},
     "output_type": "execute_result"
    }
   ],
   "source": [
    "coordinates"
   ]
  },
  {
   "cell_type": "code",
   "execution_count": 23,
   "metadata": {},
   "outputs": [],
   "source": [
    "connections = np.array(connections)"
   ]
  },
  {
   "cell_type": "code",
   "execution_count": 24,
   "metadata": {},
   "outputs": [],
   "source": [
    "connections = connections - 1"
   ]
  },
  {
   "cell_type": "code",
   "execution_count": 25,
   "metadata": {},
   "outputs": [],
   "source": [
    "r = 500\n",
    "fi = 0\n",
    "theta = 0"
   ]
  },
  {
   "cell_type": "code",
   "execution_count": 26,
   "metadata": {},
   "outputs": [],
   "source": [
    "fi = np.radians(fi)\n",
    "theta = np.radians(theta)"
   ]
  },
  {
   "cell_type": "code",
   "execution_count": 27,
   "metadata": {},
   "outputs": [],
   "source": [
    "def mat_V_found(theta, fi, r):    \n",
    "    mat_V = np.array([[-1 * np.sin(theta), -1 * np.cos(fi) * np.cos(theta), -1 * np.sin(fi) * np.cos(theta), 0],\n",
    "                     [np.cos(theta), -1 * np.cos(fi) * np.sin(theta), -1 * np.sin(fi) * np.sin(theta), 0],\n",
    "                     [0, np.sin(fi), -1 * np.cos(fi), 0],\n",
    "                     [0, 0, r, 1]])\n",
    "    return mat_V"
   ]
  },
  {
   "cell_type": "code",
   "execution_count": 28,
   "metadata": {},
   "outputs": [],
   "source": [
    "def drawing(img, coor, con):\n",
    "    coor = tuple(map(tuple, coor.astype(int) + 300))\n",
    "    for i in con:\n",
    "        x = coor[i[0]]\n",
    "        y = coor[i[1]]\n",
    "        cv2.line(img, x, y, (randint(0,255),randint(0,255),randint(0,255)))\n",
    "    return img"
   ]
  },
  {
   "cell_type": "code",
   "execution_count": 29,
   "metadata": {},
   "outputs": [],
   "source": [
    "def perevod(cor, por_v):\n",
    "    vidov = []\n",
    "    for i in cor:\n",
    "        vidov.append(np.matmul(np.append(i, 1), por_v))\n",
    "    meh = np.array(vidov)\n",
    "    meh = np.delete(meh,3, 1)\n",
    "    return meh"
   ]
  },
  {
   "cell_type": "code",
   "execution_count": 30,
   "metadata": {},
   "outputs": [],
   "source": [
    "def plosk_cor(vid, r):\n",
    "    hren = []\n",
    "    for i in vid:\n",
    "        x = (r / 2) / i[2] * i[0]\n",
    "        y = (r / 2) / i[2] * i[1]\n",
    "        hren.append([x, y])\n",
    "    hren = np.array(hren)\n",
    "    return hren"
   ]
  },
  {
   "cell_type": "code",
   "execution_count": 31,
   "metadata": {},
   "outputs": [],
   "source": [
    "def crut(cor, con):\n",
    "    pofo = []\n",
    "    for i in range(360):\n",
    "        mat = mat_V_found(np.radians(i), np.radians(i), r)\n",
    "        new_coor = perevod(cor, mat)\n",
    "        plosk_coor = plosk_cor(new_coor, r)\n",
    "        imag2 = np.zeros((600, 600, 3))\n",
    "        img2 = drawing(imag2, plosk_coor, con)\n",
    "        pofo.append(img2)\n",
    "    imageio.mimsave('/home/kaichou/homework/graphics/cube/02movie.gif', pofo)"
   ]
  },
  {
   "cell_type": "code",
   "execution_count": 32,
   "metadata": {},
   "outputs": [
    {
     "name": "stderr",
     "output_type": "stream",
     "text": [
      "WARNING:root:Lossy conversion from float64 to uint8. Range [0.0, 250.0]. Convert image to uint8 prior to saving to suppress this warning.\n",
     ]
    },
    {
     "name": "stderr",
     "output_type": "stream",
     "text": [
      "WARNING:root:Lossy conversion from float64 to uint8. Range [0.0, 245.0]. Convert image to uint8 prior to saving to suppress this warning.\n",
     ]
    },
    {
     "name": "stderr",
     "output_type": "stream",
     "text": [
      "WARNING:root:Lossy conversion from float64 to uint8. Range [0.0, 252.0]. Convert image to uint8 prior to saving to suppress this warning.\n",
     ]
    },
    {
     "name": "stderr",
     "output_type": "stream",
     "text": [
      "WARNING:root:Lossy conversion from float64 to uint8. Range [0.0, 254.0]. Convert image to uint8 prior to saving to suppress this warning.\n",
     ]
    },
    {
     "name": "stderr",
     "output_type": "stream",
     "text": [
      "WARNING:root:Lossy conversion from float64 to uint8. Range [0.0, 246.0]. Convert image to uint8 prior to saving to suppress this warning.\n",
     ]
    },
    {
     "name": "stderr",
     "output_type": "stream",
     "text": [
      "WARNING:root:Lossy conversion from float64 to uint8. Range [0.0, 247.0]. Convert image to uint8 prior to saving to suppress this warning.\n",
     ]
    }
   ],
   "source": [
    "prib_ot(coordinates, connections)"
   ]
  },
  {
   "cell_type": "code",
   "execution_count": null,
   "metadata": {},
   "outputs": [],
   "source": []
  }
 ],
 "metadata": {
  "kernelspec": {
   "display_name": "Python 3",
   "language": "python",
   "name": "python3"
  },
  "language_info": {
   "codemirror_mode": {
    "name": "ipython",
    "version": 3
   },
   "file_extension": ".py",
   "mimetype": "text/x-python",
   "name": "python",
   "nbconvert_exporter": "python",
   "pygments_lexer": "ipython3",
   "version": "3.6.5"
  }
 },
 "nbformat": 4,
 "nbformat_minor": 2
}
