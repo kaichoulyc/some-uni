{
  "nbformat": 4,
  "nbformat_minor": 0,
  "metadata": {
    "colab": {
      "name": "Untitled.ipynb",
      "version": "0.3.2",
      "provenance": [],
      "collapsed_sections": []
    },
    "kernelspec": {
      "display_name": "Python 3",
      "language": "python",
      "name": "python3"
    }
  },
  "cells": [
    {
      "metadata": {
        "id": "vvcRGZU2GoeY",
        "colab_type": "code",
        "colab": {}
      },
      "cell_type": "code",
      "source": [
        "import numpy as np\n",
        "import cv2\n",
        "from random import *\n",
        "import matplotlib.pyplot as plt\n",
        "import imageio\n",
        "%matplotlib inline"
      ],
      "execution_count": 0,
      "outputs": []
    },
    {
      "metadata": {
        "id": "qsrC-zxXGoec",
        "colab_type": "code",
        "colab": {}
      },
      "cell_type": "code",
      "source": [
        "coordinates = [[0,0,0],\n",
        "              [3,0,0],\n",
        "              [0,3,0],\n",
        "              [3,3,0],\n",
        "              [0,0,3],\n",
        "              [3,0,3],\n",
        "              [0,3,3],\n",
        "              [3,3,3]]"
      ],
      "execution_count": 0,
      "outputs": []
    },
    {
      "metadata": {
        "id": "O61TGIdTGoeg",
        "colab_type": "code",
        "colab": {}
      },
      "cell_type": "code",
      "source": [
        "coordinates = np.array(coordinates)"
      ],
      "execution_count": 0,
      "outputs": []
    },
    {
      "metadata": {
        "id": "ymdFNYgzGoeh",
        "colab_type": "code",
        "colab": {}
      },
      "cell_type": "code",
      "source": [
        "connections = [[1,2],\n",
        "              [1,3],\n",
        "              [2,4],\n",
        "              [3,4],\n",
        "              [1,5],\n",
        "              [2,6],\n",
        "              [3,7],\n",
        "              [4,8],\n",
        "              [5,6],\n",
        "              [5,7],\n",
        "              [6,8],\n",
        "              [7,8]]"
      ],
      "execution_count": 0,
      "outputs": []
    },
    {
      "metadata": {
        "id": "GqRQ83EeGoek",
        "colab_type": "code",
        "colab": {}
      },
      "cell_type": "code",
      "source": [
        "coordinates *= 100"
      ],
      "execution_count": 0,
      "outputs": []
    },
    {
      "metadata": {
        "id": "EByuhDbzGoen",
        "colab_type": "code",
        "colab": {}
      },
      "cell_type": "code",
      "source": [
        "coordinates = coordinates - 150"
      ],
      "execution_count": 0,
      "outputs": []
    },
    {
      "metadata": {
        "id": "lW9Wv5LeGoeq",
        "colab_type": "code",
        "colab": {}
      },
      "cell_type": "code",
      "source": [
        "coordinates"
      ],
      "execution_count": 0,
      "outputs": []
    },
    {
      "metadata": {
        "id": "64Pbq0RIGoew",
        "colab_type": "code",
        "colab": {}
      },
      "cell_type": "code",
      "source": [
        "connections = np.array(connections)"
      ],
      "execution_count": 0,
      "outputs": []
    },
    {
      "metadata": {
        "id": "F8GEqD2gGoez",
        "colab_type": "code",
        "colab": {}
      },
      "cell_type": "code",
      "source": [
        "connections = connections - 1"
      ],
      "execution_count": 0,
      "outputs": []
    },
    {
      "metadata": {
        "id": "tCR9S7n2Goe1",
        "colab_type": "code",
        "colab": {}
      },
      "cell_type": "code",
      "source": [
        "r = 500\n",
        "fi = 0\n",
        "theta = 0"
      ],
      "execution_count": 0,
      "outputs": []
    },
    {
      "metadata": {
        "id": "vTwYyIHMGoe4",
        "colab_type": "code",
        "colab": {}
      },
      "cell_type": "code",
      "source": [
        "fi = np.radians(fi)\n",
        "theta = np.radians(theta)"
      ],
      "execution_count": 0,
      "outputs": []
    },
    {
      "metadata": {
        "id": "HiBlPdnWGoe7",
        "colab_type": "code",
        "colab": {}
      },
      "cell_type": "code",
      "source": [
        "def mat_V_found(theta, fi, r):    \n",
        "    mat_V = np.array([[-1 * np.sin(theta), -1 * np.cos(fi) * np.cos(theta), -1 * np.sin(fi) * np.cos(theta), 0],\n",
        "                     [np.cos(theta), -1 * np.cos(fi) * np.sin(theta), -1 * np.sin(fi) * np.sin(theta), 0],\n",
        "                     [0, np.sin(fi), -1 * np.cos(fi), 0],\n",
        "                     [0, 0, r, 1]])\n",
        "    return mat_V"
      ],
      "execution_count": 0,
      "outputs": []
    },
    {
      "metadata": {
        "id": "kTmTu2ksGoe9",
        "colab_type": "code",
        "colab": {}
      },
      "cell_type": "code",
      "source": [
        "def drawing(img, coor, con):\n",
        "    coor = tuple(map(tuple, coor.astype(int) + 300))\n",
        "    for i in con:\n",
        "        x = coor[i[0]]\n",
        "        y = coor[i[1]]\n",
        "        cv2.line(img, x, y, (randint(0,255),randint(0,255),randint(0,255)))\n",
        "    return img"
      ],
      "execution_count": 0,
      "outputs": []
    },
    {
      "metadata": {
        "id": "e5oTYU8PGoe_",
        "colab_type": "code",
        "colab": {}
      },
      "cell_type": "code",
      "source": [
        "def perevod(cor, por_v):\n",
        "    vidov = []\n",
        "    for i in cor:\n",
        "        vidov.append(np.matmul(np.append(i, 1), por_v))\n",
        "    meh = np.array(vidov)\n",
        "    meh = np.delete(meh,3, 1)\n",
        "    return meh"
      ],
      "execution_count": 0,
      "outputs": []
    },
    {
      "metadata": {
        "id": "iWi3xckhGofD",
        "colab_type": "code",
        "colab": {}
      },
      "cell_type": "code",
      "source": [
        "def plosk_cor(vid, r):\n",
        "    hren = []\n",
        "    for i in vid:\n",
        "        x = (r / 2) / i[2] * i[0]\n",
        "        y = (r / 2) / i[2] * i[1]\n",
        "        hren.append([x, y])\n",
        "    hren = np.array(hren)\n",
        "    return hren"
      ],
      "execution_count": 0,
      "outputs": []
    },
    {
      "metadata": {
        "id": "cT1PMYjWGofF",
        "colab_type": "code",
        "colab": {}
      },
      "cell_type": "code",
      "source": [
        "def crut(cor, con):\n",
        "    pofo = []\n",
        "    for i in range(1):\n",
        "        mat = mat_V_found(np.radians(i), np.radians(i), r)\n",
        "        new_coor = perevod(cor, mat)\n",
        "        plosk_coor = plosk_cor(new_coor, r)\n",
        "        imag2 = np.zeros((600, 600, 3))\n",
        "        img2 = drawing(imag2, plosk_coor, con)\n",
        "        pofo.append(img2)\n",
        "    imageio.mimsave('/home/kaichou/homework/graphics/cube/02movie.gif', pofo)"
      ],
      "execution_count": 0,
      "outputs": []
    },
    {
      "metadata": {
        "id": "O2i-tja9GofJ",
        "colab_type": "code",
        "colab": {}
      },
      "cell_type": "code",
      "source": [
        "crut(coordinates, connections)"
      ],
      "execution_count": 0,
      "outputs": []
    },
    {
      "metadata": {
        "id": "PZ8wThVsGofN",
        "colab_type": "code",
        "colab": {}
      },
      "cell_type": "code",
      "source": [
        "def prib_ot(cor, con):\n",
        "    pofo = []\n",
        "    mon = 1\n",
        "    for i in range(360):\n",
        "        if i > 180:\n",
        "            mon += 5\n",
        "        else:\n",
        "            mon -= 5\n",
        "        mat = mat_V_found(theta, fi, r - mon)\n",
        "        new_coor = perevod(cor, mat)\n",
        "        plosk_coor = plosk_cor(new_coor, r - mon)\n",
        "        imag2 = np.zeros((600, 600, 3))\n",
        "        img2 = drawing(imag2, plosk_coor, con)\n",
        "        pofo.append(img2)\n",
        "    imageio.mimsave('/home/kaichou/homework/graphics/cube/01movie.gif', pofo)\n",
        "    del(pofo, mat, new_coor, plosk_coor, imag2, img2)"
      ],
      "execution_count": 0,
      "outputs": []
    },
    {
      "metadata": {
        "id": "SXEA9MwJGofS",
        "colab_type": "code",
        "colab": {}
      },
      "cell_type": "code",
      "source": [
        "prib_ot(coordinates, connections)"
      ],
      "execution_count": 0,
      "outputs": []
    },
    {
      "metadata": {
        "id": "szLR5iwJGofW",
        "colab_type": "code",
        "colab": {}
      },
      "cell_type": "code",
      "source": [
        ""
      ],
      "execution_count": 0,
      "outputs": []
    }
  ]
}